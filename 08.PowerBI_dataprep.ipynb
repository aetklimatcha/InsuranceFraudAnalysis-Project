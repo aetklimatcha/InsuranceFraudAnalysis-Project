{
 "cells": [
  {
   "cell_type": "code",
   "execution_count": 1,
   "metadata": {},
   "outputs": [],
   "source": [
    "import json\n",
    "import warnings\n",
    "import pandas as pd\n",
    "\n",
    "pd.set_option('future.no_silent_downcasting', True)\n",
    "pd.set_option('display.max_columns', None)\n",
    "\n",
    "warnings.filterwarnings('ignore')"
   ]
  },
  {
   "cell_type": "code",
   "execution_count": 2,
   "metadata": {},
   "outputs": [],
   "source": [
    "df = pd.read_csv('powerBI/raw_data_with_predictions.csv')"
   ]
  },
  {
   "cell_type": "code",
   "execution_count": 3,
   "metadata": {},
   "outputs": [],
   "source": [
    "vehicle_price_mapping = {\n",
    "    'less than 20000': 20000,\n",
    "    '20000 to 29000': 25000,\n",
    "    '30000 to 39000': 35000,\n",
    "    '40000 to 59000': 50000,\n",
    "    '60000 to 69000': 65000,\n",
    "    'more than 69000': 75000\n",
    "}\n",
    "\n",
    "df['VehiclePrice_average'] = df['VehiclePrice'].map(vehicle_price_mapping)"
   ]
  },
  {
   "cell_type": "code",
   "execution_count": 4,
   "metadata": {},
   "outputs": [],
   "source": [
    "# df.FraudFound_P.value_counts()"
   ]
  },
  {
   "cell_type": "code",
   "execution_count": 5,
   "metadata": {},
   "outputs": [],
   "source": [
    "df.to_csv(\"powerBI/raw_data.csv\", index=False)"
   ]
  },
  {
   "cell_type": "markdown",
   "metadata": {},
   "source": [
    "---"
   ]
  },
  {
   "cell_type": "markdown",
   "metadata": {},
   "source": [
    "## EBM local scores"
   ]
  },
  {
   "cell_type": "code",
   "execution_count": 6,
   "metadata": {},
   "outputs": [],
   "source": [
    "with open('powerBI/all_perils_ebm.json', 'r') as f:\n",
    "    all_perils_ebm = json.load(f)\n",
    "\n",
    "with open('powerBI/collision_ebm.json', 'r') as f:\n",
    "    collision_ebm = json.load(f)"
   ]
  },
  {
   "cell_type": "code",
   "execution_count": null,
   "metadata": {},
   "outputs": [],
   "source": [
    "all_perils_ebm['ebm'].keys()"
   ]
  },
  {
   "cell_type": "code",
   "execution_count": null,
   "metadata": {},
   "outputs": [],
   "source": [
    "ap_category_db = pd.DataFrame()\n",
    "ap_numeric_db = pd.DataFrame()\n",
    "\n",
    "all_p_intercept = all_perils_ebm['ebm']['intercept']\n",
    "\n",
    "for feature, term in zip(all_perils_ebm['ebm']['features'], all_perils_ebm['ebm']['terms']):\n",
    "    if 'categories' in list(feature.keys()):\n",
    "        print(feature['name'])\n",
    "        value_df = pd.DataFrame(feature['categories']).T\n",
    "        value_df.columns=['input_value']\n",
    "        value_df['feature'] = feature['name']\n",
    "\n",
    "        value_df['score'] = term['scores'][1:-1]\n",
    "        value_df['score_std'] = term['standard_deviations'][1:-1]\n",
    "\n",
    "        ap_category_db = pd.concat([ap_category_db, value_df], axis=0)\n",
    "    else:\n",
    "        print(\">\", feature['name'])\n",
    "        # numerical feature들을 'binning'하여 score를 부여한 형태\n",
    "        total_feature_cuts = [feature['min']] + feature['cuts'][0] + [feature['max']]\n",
    "        tmp = pd.DataFrame(total_feature_cuts, columns=['cut_start'])\n",
    "        tmp['cut_end'] = tmp.cut_start.shift(-1)\n",
    "        tmp.dropna(inplace=True)\n",
    "        tmp['feature'] = feature['name']\n",
    "\n",
    "        tmp['score'] = term['scores'][1:-1]\n",
    "        tmp['score_std'] = term['standard_deviations'][1:-1]\n",
    "        # 따라서 각각의 bin에 따라 score가 분배 되어 있다\n",
    "        tmp_df_list = list()\n",
    "\n",
    "        for value in df[feature['name']].unique():\n",
    "            extracted_tmp = tmp.loc[(tmp['cut_start']<=value) & (tmp['cut_end']>value)]\n",
    "            extracted_tmp['input_value'] = value\n",
    "            tmp_df_list.append(extracted_tmp)\n",
    "        # 가장 마지막 value 값도 추가\n",
    "        extracted_tmp = tmp.loc[tmp['cut_end']==feature['max']]\n",
    "        extracted_tmp['input_value'] = feature['max']\n",
    "        tmp_df_list.append(extracted_tmp)\n",
    "\n",
    "        value_df = pd.concat(tmp_df_list, axis=0)\n",
    "        ap_numeric_db = pd.concat([ap_numeric_db, value_df], axis=0)\n",
    "\n",
    "        # if feature['name']==\"DriverRating\":\n",
    "        #     break\n",
    "        \n",
    "ap_numeric_db.sort_values(['feature', 'input_value'], inplace=True)\n",
    "ap_numeric_db.drop(columns=['cut_start', 'cut_end'], inplace=True)\n",
    "ap_category_db['intercept'] = all_p_intercept[0]\n",
    "ap_numeric_db['intercept'] = all_p_intercept[0]"
   ]
  },
  {
   "cell_type": "code",
   "execution_count": 55,
   "metadata": {},
   "outputs": [],
   "source": [
    "ap_numeric_db['policy_type'] = \"All Perils\"\n",
    "ap_numeric_db['feature_type'] = \"numeric\"\n",
    "ap_category_db['policy_type'] = \"All Perils\"\n",
    "ap_category_db['feature_type'] = \"category\"\n",
    "\n",
    "all_p_local_scores = pd.concat([ap_numeric_db, ap_category_db], axis=0)"
   ]
  },
  {
   "cell_type": "code",
   "execution_count": null,
   "metadata": {},
   "outputs": [],
   "source": [
    "c_category_db = pd.DataFrame()\n",
    "c_numeric_db = pd.DataFrame()\n",
    "\n",
    "collision_intercept = collision_ebm['ebm']['intercept']\n",
    "\n",
    "for feature, term in zip(collision_ebm['ebm']['features'], collision_ebm['ebm']['terms']):\n",
    "    if 'categories' in list(feature.keys()):\n",
    "        print(feature['name'])\n",
    "        value_df = pd.DataFrame(feature['categories']).T\n",
    "        value_df.columns=['input_value']\n",
    "        value_df['feature'] = feature['name']\n",
    "\n",
    "        value_df['score'] = term['scores'][1:-1]\n",
    "        value_df['score_std'] = term['standard_deviations'][1:-1]\n",
    "\n",
    "        c_category_db = pd.concat([c_category_db, value_df], axis=0)\n",
    "    else:\n",
    "        print(\">\", feature['name'])\n",
    "        # numerical feature들을 'binning'하여 score를 부여한 형태\n",
    "        total_feature_cuts = [feature['min']] + feature['cuts'][0] + [feature['max']]\n",
    "        tmp = pd.DataFrame(total_feature_cuts, columns=['cut_start'])\n",
    "        tmp['cut_end'] = tmp.cut_start.shift(-1)\n",
    "        tmp.dropna(inplace=True)\n",
    "        tmp['feature'] = feature['name']\n",
    "\n",
    "        tmp['score'] = term['scores'][1:-1]\n",
    "        tmp['score_std'] = term['standard_deviations'][1:-1]\n",
    "        # 따라서 각각의 bin에 따라 scorer가 분배 되어 있다\n",
    "        tmp_df_list = list()\n",
    "\n",
    "        for value in df[feature['name']].unique():\n",
    "            extracted_tmp = tmp.loc[(tmp['cut_start']<=value) & (tmp['cut_end']>value)]\n",
    "            extracted_tmp['input_value'] = value\n",
    "            tmp_df_list.append(extracted_tmp)\n",
    "        # 가장 마지막 value 값도 추가\n",
    "        extracted_tmp = tmp.loc[tmp['cut_end']==feature['max']]\n",
    "        extracted_tmp['input_value'] = feature['max']\n",
    "        tmp_df_list.append(extracted_tmp)\n",
    "\n",
    "        value_df = pd.concat(tmp_df_list, axis=0)\n",
    "        c_numeric_db = pd.concat([c_numeric_db, value_df], axis=0)\n",
    "        \n",
    "c_numeric_db.sort_values(['feature', 'input_value'], inplace=True)\n",
    "c_numeric_db.drop(columns=['cut_start', 'cut_end'], inplace=True)\n",
    "c_category_db['intercept'] = collision_intercept[0]\n",
    "c_numeric_db['intercept'] = collision_intercept[0]"
   ]
  },
  {
   "cell_type": "code",
   "execution_count": 60,
   "metadata": {},
   "outputs": [],
   "source": [
    "c_numeric_db['policy_type'] = \"Collision\"\n",
    "c_numeric_db['feature_type'] = \"numeric\"\n",
    "c_category_db['policy_type'] = \"Collision\"\n",
    "c_category_db['feature_type'] = \"category\"\n",
    "\n",
    "collision_local_scores = pd.concat([c_numeric_db, c_category_db], axis=0)"
   ]
  },
  {
   "cell_type": "code",
   "execution_count": 62,
   "metadata": {},
   "outputs": [],
   "source": [
    "local_scores = pd.concat([collision_local_scores, all_p_local_scores], axis=0)\n",
    "local_scores.to_csv(\"powerBI/local_scores.csv\", index=False)"
   ]
  },
  {
   "cell_type": "markdown",
   "metadata": {},
   "source": [
    "---"
   ]
  },
  {
   "cell_type": "code",
   "execution_count": null,
   "metadata": {},
   "outputs": [],
   "source": [
    "local_scores"
   ]
  },
  {
   "cell_type": "code",
   "execution_count": null,
   "metadata": {},
   "outputs": [],
   "source": [
    "products = df[['BasePolicy']].drop_duplicates()\n",
    "products.to_csv(\"powerBI/products.csv\", index=True)\n",
    "products"
   ]
  },
  {
   "cell_type": "markdown",
   "metadata": {},
   "source": [
    "---"
   ]
  },
  {
   "cell_type": "code",
   "execution_count": 65,
   "metadata": {},
   "outputs": [],
   "source": [
    "time_vars = [\"Month\", \"WeekOfMonth\", \"DayOfWeek\", \"DayOfWeekClaimed\", 'MonthClaimed', 'WeekOfMonthClaimed', 'Year']\n",
    "vehicle_vars = [\"Make\", \"VehiclePrice_num\", \"VehicleCategory\", \"AgeOfVehicle\", \"VehiclePrice\", \"VehiclePrice_average\"]\n",
    "personal_vars = [\"Sex\", 'MaritalStatus', \"Age\", 'DriverRating', 'AgeOfPolicyHolder', 'NumberOfCars', 'PastNumberOfClaims', 'AddressChange_Claim']\n",
    "policy_vars = [\"PolicyType\", 'Deductible', 'AgentType', \"NumberOfSuppliments\", 'PolicyNumber', 'RepNumber', 'BasePolicy']\n",
    "accident_vars = ['Days_Policy_Accident', 'Days_Policy_Claim', 'PoliceReportFiled', 'WitnessPresent', 'AddressChange_Claim_2', 'AccidentArea', 'Fault', 'FraudFound_P', 'predictions']"
   ]
  },
  {
   "cell_type": "code",
   "execution_count": null,
   "metadata": {},
   "outputs": [],
   "source": [
    "time_df"
   ]
  },
  {
   "cell_type": "code",
   "execution_count": 66,
   "metadata": {},
   "outputs": [],
   "source": [
    "time_df = pd.DataFrame(time_vars, columns=['feature'])\n",
    "time_df['feature_type'] = 'time'\n",
    "\n",
    "vehicle_df = pd.DataFrame(vehicle_vars, columns=['feature'])\n",
    "vehicle_df['feature_type'] = 'vehicle'\n",
    "\n",
    "personal_df = pd.DataFrame(personal_vars, columns=['feature'])\n",
    "personal_df['feature_type'] = 'personal'\n",
    "\n",
    "policy_df = pd.DataFrame(policy_vars, columns=['feature'])\n",
    "policy_df['feature_type'] = 'policy'\n",
    "\n",
    "accident_df = pd.DataFrame(accident_vars, columns=['feature'])\n",
    "accident_df['feature_type'] = 'accident'\n",
    "\n",
    "features = pd.concat([time_df, vehicle_df, personal_df, policy_df, accident_df], axis=0)"
   ]
  },
  {
   "cell_type": "code",
   "execution_count": null,
   "metadata": {},
   "outputs": [],
   "source": [
    "features"
   ]
  },
  {
   "cell_type": "code",
   "execution_count": null,
   "metadata": {},
   "outputs": [],
   "source": [
    "features.to_csv(\"powerBI/features.csv\", index=False)\n",
    "features.tail(3)"
   ]
  },
  {
   "cell_type": "markdown",
   "metadata": {},
   "source": [
    "---"
   ]
  },
  {
   "cell_type": "code",
   "execution_count": 51,
   "metadata": {},
   "outputs": [],
   "source": []
  },
  {
   "cell_type": "code",
   "execution_count": null,
   "metadata": {},
   "outputs": [],
   "source": []
  },
  {
   "cell_type": "code",
   "execution_count": null,
   "metadata": {},
   "outputs": [],
   "source": []
  },
  {
   "cell_type": "code",
   "execution_count": null,
   "metadata": {},
   "outputs": [],
   "source": []
  },
  {
   "cell_type": "code",
   "execution_count": null,
   "metadata": {},
   "outputs": [],
   "source": []
  }
 ],
 "metadata": {
  "kernelspec": {
   "display_name": "metacode",
   "language": "python",
   "name": "python3"
  },
  "language_info": {
   "codemirror_mode": {
    "name": "ipython",
    "version": 3
   },
   "file_extension": ".py",
   "mimetype": "text/x-python",
   "name": "python",
   "nbconvert_exporter": "python",
   "pygments_lexer": "ipython3",
   "version": "3.11.9"
  }
 },
 "nbformat": 4,
 "nbformat_minor": 2
}
