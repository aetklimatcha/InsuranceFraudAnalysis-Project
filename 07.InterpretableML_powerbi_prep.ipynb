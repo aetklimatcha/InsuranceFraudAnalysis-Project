{
 "cells": [
  {
   "cell_type": "code",
   "execution_count": 1,
   "metadata": {},
   "outputs": [],
   "source": [
    "import numpy as np\n",
    "import pandas as pd\n",
    "import seaborn as sns\n",
    "import matplotlib.pyplot as plt\n",
    "import plotly.express as px\n",
    "import plotly.graph_objects as go\n",
    "import warnings\n",
    "from sklearn.metrics import accuracy_score, classification_report\n",
    "from sklearn.model_selection import train_test_split\n",
    "\n",
    "from interpret import set_visualize_provider\n",
    "from interpret import show\n",
    "from interpret.provider import InlineProvider\n",
    "from interpret.glassbox import ExplainableBoostingClassifier\n",
    "\n",
    "from utils2 import *\n",
    "from stat_utils import *\n",
    "\n",
    "pd.set_option('future.no_silent_downcasting', True)\n",
    "pd.set_option('display.max_columns', None)\n",
    "\n",
    "warnings.filterwarnings('ignore')\n",
    "set_visualize_provider(InlineProvider())\n"
   ]
  },
  {
   "cell_type": "code",
   "execution_count": 2,
   "metadata": {},
   "outputs": [],
   "source": [
    "df = pd.read_csv('data/fraud_oracle.csv')"
   ]
  },
  {
   "cell_type": "code",
   "execution_count": 3,
   "metadata": {},
   "outputs": [],
   "source": [
    "address_change_mapping = {\n",
    "    '1 year' : \"change\",\n",
    "    'no change' : \"no_change\",\n",
    "    '4 to 8 years' : \"change\", \n",
    "    '2 to 3 years' : \"change\",\n",
    "    'under 6 months' : \"change\"\n",
    "}\n",
    "vehicle_price_mapping = {\n",
    "    'less than 20000': \"less than 30000\",\n",
    "    '20000 to 29000': \"less than 30000\",\n",
    "    '30000 to 39000': \"30000 to 59000\",\n",
    "    '40000 to 59000': \"30000 to 59000\",\n",
    "    '60000 to 69000': \"more than 60000\",\n",
    "    'more than 69000': \"more than 60000\"\n",
    "}\n",
    "\n",
    "df['AddressChange_Claim_2'] = df['AddressChange_Claim'].map(address_change_mapping)\n",
    "df['VehiclePrice_num'] = df['VehiclePrice'].map(vehicle_price_mapping)"
   ]
  },
  {
   "cell_type": "code",
   "execution_count": 4,
   "metadata": {},
   "outputs": [],
   "source": [
    "time_vars = [\"Month\", \"WeekOfMonth\", \"DayOfWeek\", \"DayOfWeekClaimed\", 'MonthClaimed', 'WeekOfMonthClaimed']\n",
    "vehicle_vars = [\"Make\", \"VehiclePrice_num\", \"VehicleCategory\", \"AgeOfVehicle\"]\n",
    "personal_vars = [\"Sex\", 'MaritalStatus', \"Age\", 'DriverRating', 'AgeOfPolicyHolder', 'NumberOfCars', 'PastNumberOfClaims']\n",
    "policy_vars = [\"PolicyType\", 'Deductible', 'AgentType', \"NumberOfSuppliments\"]\n",
    "accident_vars = ['Days_Policy_Accident', 'Days_Policy_Claim', 'PoliceReportFiled', 'WitnessPresent', 'AddressChange_Claim_2']"
   ]
  },
  {
   "cell_type": "code",
   "execution_count": 5,
   "metadata": {},
   "outputs": [],
   "source": [
    "collision = df.loc[df['BasePolicy']==\"Collision\"]\n",
    "liability = df.loc[df['BasePolicy']==\"Liability\"]\n",
    "all_p = df.loc[df['BasePolicy']==\"All Perils\"]"
   ]
  },
  {
   "cell_type": "code",
   "execution_count": 6,
   "metadata": {},
   "outputs": [],
   "source": [
    "target_col = \"FraudFound_P\"\n",
    "seed = 42\n",
    "np.random.seed(seed)"
   ]
  },
  {
   "cell_type": "markdown",
   "metadata": {},
   "source": [
    "### Oversampling"
   ]
  },
  {
   "cell_type": "code",
   "execution_count": 7,
   "metadata": {},
   "outputs": [],
   "source": [
    "target_col = \"FraudFound_P\""
   ]
  },
  {
   "cell_type": "code",
   "execution_count": 8,
   "metadata": {},
   "outputs": [],
   "source": [
    "from imblearn.over_sampling import SMOTENC\n",
    "\n",
    "X = all_p[vehicle_vars + personal_vars + policy_vars + accident_vars]\n",
    "y = all_p[target_col].astype(int)\n",
    "\n",
    "categorical_features = [X.columns.get_loc(col) for col in X.select_dtypes(include=['object']).columns]\n",
    "\n",
    "smote_nc = SMOTENC(categorical_features=categorical_features, random_state=42, sampling_strategy={0:len(y[y == 0]),\n",
    "                                                                                                  1:1500})\n",
    "\n",
    "X = X.values\n",
    "\n",
    "# Apply SMOTENC\n",
    "X_resampled, y_resampled = smote_nc.fit_resample(X, y)\n",
    "\n",
    "X_resampled = pd.DataFrame(X_resampled, columns=vehicle_vars + personal_vars + policy_vars + accident_vars)"
   ]
  },
  {
   "cell_type": "code",
   "execution_count": 9,
   "metadata": {},
   "outputs": [],
   "source": [
    "# 본래는 integer이었던 컬럼들이 float으로 변형됨\n",
    "# 이는 SMOT에서 내부적으로 데이터 셋을 oversampling하는 과정에서 interpolation이 활용되기 때문이다\n",
    "int_columns = all_p.select_dtypes(include=['int64', 'int32']).columns\n",
    "\n",
    "for i in int_columns:\n",
    "    if i in X_resampled.columns:\n",
    "        X_resampled[i] = X_resampled[i].astype(int)"
   ]
  },
  {
   "cell_type": "code",
   "execution_count": 10,
   "metadata": {},
   "outputs": [],
   "source": [
    "all_p_resampled = pd.concat([X_resampled, y_resampled], axis=1)"
   ]
  },
  {
   "cell_type": "code",
   "execution_count": null,
   "metadata": {},
   "outputs": [],
   "source": [
    "all_p_resampled.FraudFound_P.value_counts()"
   ]
  },
  {
   "cell_type": "code",
   "execution_count": 12,
   "metadata": {},
   "outputs": [],
   "source": [
    "X = all_p_resampled[vehicle_vars + personal_vars + policy_vars + accident_vars]\n",
    "y = all_p_resampled[\"FraudFound_P\"].astype(int)\n",
    "\n",
    "seed = 42\n",
    "np.random.seed(seed)\n",
    "X_train, X_test, y_train, y_test = train_test_split(X, y, test_size=0.20, random_state=seed)\n",
    "\n",
    "ebm = ExplainableBoostingClassifier(interactions=False)\n",
    "ebm.fit(X_train, y_train)\n",
    "\n",
    "y_pred = ebm.predict(X_test)\n",
    "accuracy = accuracy_score(y_test, y_pred)\n",
    "report = classification_report(y_test, y_pred)"
   ]
  },
  {
   "cell_type": "markdown",
   "metadata": {},
   "source": [
    "Create predictions"
   ]
  },
  {
   "cell_type": "code",
   "execution_count": null,
   "metadata": {},
   "outputs": [],
   "source": [
    "print(report)"
   ]
  },
  {
   "cell_type": "code",
   "execution_count": null,
   "metadata": {},
   "outputs": [],
   "source": [
    "show(ebm.explain_global())"
   ]
  },
  {
   "cell_type": "code",
   "execution_count": null,
   "metadata": {},
   "outputs": [],
   "source": []
  },
  {
   "cell_type": "code",
   "execution_count": 15,
   "metadata": {},
   "outputs": [],
   "source": [
    "all_p_global_df = pd.DataFrame(ebm.explain_global().data())\n",
    "all_p_global_df['policy_type'] = \"All Perils\"\n",
    "\n",
    "# get predictions\n",
    "X = all_p[vehicle_vars + personal_vars + policy_vars + accident_vars]\n",
    "y = all_p[\"FraudFound_P\"].astype(int)\n",
    "y_pred = ebm.predict(X)\n",
    "\n",
    "df['predictions'] = 99\n",
    "df.loc[df['BasePolicy']==\"All Perils\", 'predictions'] = list(y_pred)"
   ]
  },
  {
   "cell_type": "code",
   "execution_count": null,
   "metadata": {},
   "outputs": [],
   "source": [
    "df.loc[(df['FraudFound_P']==1) & (df['FraudFound_P']==df['predictions'])].shape"
   ]
  },
  {
   "cell_type": "code",
   "execution_count": null,
   "metadata": {},
   "outputs": [],
   "source": [
    "# local explainer\n",
    "ebm.to_json('powerBI/all_perils_ebm.json')\n",
    "\n",
    "show(ebm.explain_local(X_test[:5], y_test[:5]), 0)\n"
   ]
  },
  {
   "cell_type": "code",
   "execution_count": 19,
   "metadata": {},
   "outputs": [],
   "source": [
    "import json\n",
    "\n",
    "with open('powerBI/all_perils_ebm.json', 'r') as f:\n",
    "    all_perils_ebm = json.load(f)"
   ]
  },
  {
   "cell_type": "code",
   "execution_count": null,
   "metadata": {},
   "outputs": [],
   "source": [
    "all_perils_ebm['ebm'].keys()"
   ]
  },
  {
   "cell_type": "markdown",
   "metadata": {},
   "source": [
    "# collision modeling"
   ]
  },
  {
   "cell_type": "code",
   "execution_count": 28,
   "metadata": {},
   "outputs": [],
   "source": [
    "from imblearn.over_sampling import SMOTENC\n",
    "\n",
    "X = collision[vehicle_vars + personal_vars + policy_vars + accident_vars]\n",
    "y = collision[target_col].astype(int)\n",
    "\n",
    "categorical_features = [X.columns.get_loc(col) for col in X.select_dtypes(include=['object']).columns]\n",
    "\n",
    "smote_nc = SMOTENC(categorical_features=categorical_features, random_state=42, sampling_strategy={0:len(y[y == 0]),\n",
    "                                                                                                  1:1500})\n",
    "\n",
    "X = X.values\n",
    "\n",
    "# Apply SMOTENC\n",
    "X_resampled, y_resampled = smote_nc.fit_resample(X, y)\n",
    "\n",
    "X_resampled = pd.DataFrame(X_resampled, columns=vehicle_vars + personal_vars + policy_vars + accident_vars)"
   ]
  },
  {
   "cell_type": "code",
   "execution_count": 29,
   "metadata": {},
   "outputs": [],
   "source": [
    "int_columns = collision.select_dtypes(include=['int64', 'int32']).columns\n",
    "\n",
    "for i in int_columns:\n",
    "    if i in X_resampled.columns:\n",
    "        X_resampled[i] = X_resampled[i].astype(int)"
   ]
  },
  {
   "cell_type": "code",
   "execution_count": 30,
   "metadata": {},
   "outputs": [],
   "source": [
    "collision_resampled = pd.concat([X_resampled, y_resampled], axis=1)"
   ]
  },
  {
   "cell_type": "code",
   "execution_count": null,
   "metadata": {},
   "outputs": [],
   "source": [
    "collision_resampled.FraudFound_P.value_counts()"
   ]
  },
  {
   "cell_type": "code",
   "execution_count": null,
   "metadata": {},
   "outputs": [],
   "source": [
    "X = collision_resampled[vehicle_vars + personal_vars + policy_vars + accident_vars]\n",
    "y = collision_resampled[\"FraudFound_P\"].astype(int)\n",
    "\n",
    "seed = 42\n",
    "np.random.seed(seed)\n",
    "X_train, X_test, y_train, y_test = train_test_split(X, y, test_size=0.20, random_state=seed)\n",
    "\n",
    "ebm = ExplainableBoostingClassifier(interactions=False)\n",
    "ebm.fit(X_train, y_train)\n",
    "\n",
    "y_pred = ebm.predict(X_test)\n",
    "accuracy = accuracy_score(y_test, y_pred)\n",
    "report = classification_report(y_test, y_pred)\n",
    "\n",
    "print(report)"
   ]
  },
  {
   "cell_type": "code",
   "execution_count": null,
   "metadata": {},
   "outputs": [],
   "source": [
    "show(ebm.explain_global())"
   ]
  },
  {
   "cell_type": "code",
   "execution_count": 34,
   "metadata": {},
   "outputs": [],
   "source": [
    "ebm.to_json('powerBI/collision_ebm.json')"
   ]
  },
  {
   "cell_type": "code",
   "execution_count": 35,
   "metadata": {},
   "outputs": [],
   "source": [
    "collision_global_df = pd.DataFrame(ebm.explain_global().data())\n",
    "collision_global_df['policy_type'] = \"Collision\"\n",
    "\n",
    "# get predictions\n",
    "X = collision[vehicle_vars + personal_vars + policy_vars + accident_vars]\n",
    "y = collision[\"FraudFound_P\"].astype(int)\n",
    "y_pred = ebm.predict(X)\n",
    "\n",
    "df.loc[df['BasePolicy']==\"Collision\", 'predictions'] = list(y_pred)"
   ]
  },
  {
   "cell_type": "code",
   "execution_count": 36,
   "metadata": {},
   "outputs": [],
   "source": [
    "df.to_csv(\"powerBI/raw_data_with_predictions.csv\", index=False)"
   ]
  },
  {
   "cell_type": "code",
   "execution_count": 37,
   "metadata": {},
   "outputs": [],
   "source": [
    "global_df = pd.concat([all_p_global_df, collision_global_df], axis=0)\n",
    "global_df.to_csv(\"powerBI/global_df.csv\", index=False)"
   ]
  },
  {
   "cell_type": "code",
   "execution_count": null,
   "metadata": {},
   "outputs": [],
   "source": [
    "df.loc[(df['FraudFound_P']==1) & (df['FraudFound_P']==df['predictions'])]"
   ]
  },
  {
   "cell_type": "code",
   "execution_count": null,
   "metadata": {},
   "outputs": [],
   "source": []
  }
 ],
 "metadata": {
  "kernelspec": {
   "display_name": "metacode",
   "language": "python",
   "name": "python3"
  },
  "language_info": {
   "codemirror_mode": {
    "name": "ipython",
    "version": 3
   },
   "file_extension": ".py",
   "mimetype": "text/x-python",
   "name": "python",
   "nbconvert_exporter": "python",
   "pygments_lexer": "ipython3",
   "version": "3.11.9"
  }
 },
 "nbformat": 4,
 "nbformat_minor": 2
}
